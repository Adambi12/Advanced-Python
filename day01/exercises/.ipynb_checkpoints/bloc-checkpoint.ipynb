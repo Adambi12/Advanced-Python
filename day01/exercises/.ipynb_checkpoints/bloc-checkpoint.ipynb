{
 "cells": [
  {
   "cell_type": "code",
   "execution_count": 25,
   "id": "50316a8c",
   "metadata": {},
   "outputs": [],
   "source": [
    "import numpy as np"
   ]
  },
  {
   "cell_type": "code",
   "execution_count": 26,
   "id": "4c085f5f",
   "metadata": {},
   "outputs": [],
   "source": [
    "def Produit_Bloc(A, B, block_size):\n",
    "    # Obtenir les dimensions des matrices\n",
    "    n, m = A.shape\n",
    "    m, p = B.shape\n",
    "\n",
    "    # Initialiser la matrice résultante C\n",
    "    C = np.zeros((n, p))\n",
    "\n",
    "    # Effectuer le produit matriciel bloc par bloc\n",
    "    for i in range(0, n, block_size):\n",
    "        for j in range(0, p, block_size):\n",
    "            for k in range(0, m, block_size):\n",
    "                # Multiplier les blocs actuels\n",
    "                C[i:i+block_size, j:j+block_size] += np.dot(A[i:i+block_size, k:k+block_size], B[k:k+block_size, j:j+block_size])\n",
    "                \n",
    "    return C"
   ]
  },
  {
   "cell_type": "code",
   "execution_count": null,
   "id": "4f36c7ac",
   "metadata": {},
   "outputs": [],
   "source": [
    "for i in range()"
   ]
  },
  {
   "cell_type": "code",
   "execution_count": 27,
   "id": "5bdd3d88",
   "metadata": {},
   "outputs": [],
   "source": [
    "A = np.array([[1, 2, 4], [3, 4, 5],[2, 5, 1]])\n",
    "B = np.array([[5, 6, 3], [1, 7, 8],[3, 9, 0]])"
   ]
  },
  {
   "cell_type": "code",
   "execution_count": 28,
   "id": "f5c42bbd",
   "metadata": {},
   "outputs": [
    {
     "data": {
      "text/plain": [
       "array([[19., 56., 19.],\n",
       "       [34., 91., 41.],\n",
       "       [18., 56., 46.]])"
      ]
     },
     "execution_count": 28,
     "metadata": {},
     "output_type": "execute_result"
    }
   ],
   "source": [
    "Produit_Bloc(A,B,3)"
   ]
  },
  {
   "cell_type": "code",
   "execution_count": null,
   "id": "446aa810",
   "metadata": {},
   "outputs": [],
   "source": []
  },
  {
   "cell_type": "code",
   "execution_count": null,
   "id": "d4b6b3d5",
   "metadata": {},
   "outputs": [],
   "source": []
  }
 ],
 "metadata": {
  "kernelspec": {
   "display_name": "Python 3 (ipykernel)",
   "language": "python",
   "name": "python3"
  },
  "language_info": {
   "codemirror_mode": {
    "name": "ipython",
    "version": 3
   },
   "file_extension": ".py",
   "mimetype": "text/x-python",
   "name": "python",
   "nbconvert_exporter": "python",
   "pygments_lexer": "ipython3",
   "version": "3.9.13"
  }
 },
 "nbformat": 4,
 "nbformat_minor": 5
}
