{
 "cells": [
  {
   "cell_type": "code",
   "execution_count": 1,
   "id": "f236e2b8",
   "metadata": {},
   "outputs": [],
   "source": [
    "import timeit, time, random, string\n",
    "import numpy as np\n"
   ]
  },
  {
   "cell_type": "markdown",
   "id": "fe19bf34",
   "metadata": {},
   "source": [
    "# Python best practices exercises"
   ]
  },
  {
   "cell_type": "markdown",
   "id": "e5a34f61",
   "metadata": {},
   "source": [
    "# Exercice 1"
   ]
  },
  {
   "cell_type": "code",
   "execution_count": 2,
   "id": "68ca5caf",
   "metadata": {},
   "outputs": [],
   "source": [
    "def ft_concatenate(l_strings, d):\n",
    "    \"\"\"concatenate list of strings into one string separated by delimiter\"\"\"\n",
    "    res = l_strings[0]\n",
    "    for e in l_strings[1:]:\n",
    "        res = res + d + e\n",
    "    return res"
   ]
  },
  {
   "cell_type": "code",
   "execution_count": 3,
   "id": "45ab4265",
   "metadata": {},
   "outputs": [],
   "source": [
    "caracteres = string.ascii_letters + string.digits + string.punctuation  # Caractères possibles\n",
    "a = []\n",
    "d=' '\n",
    "for i in range(3000):\n",
    "    a.append(random.choice(caracteres))\n"
   ]
  },
  {
   "cell_type": "code",
   "execution_count": 4,
   "id": "90065e64",
   "metadata": {},
   "outputs": [
    {
     "name": "stdout",
     "output_type": "stream",
     "text": [
      "Temps d'éxécution:  0.0010399818420410156\n"
     ]
    }
   ],
   "source": [
    "initialTime =time.time()\n",
    "\n",
    "ft_concatenate(a,d)\n",
    "\n",
    "print(\"Temps d'éxécution: \", time.time()-initialTime)"
   ]
  },
  {
   "cell_type": "code",
   "execution_count": 5,
   "id": "589549f8",
   "metadata": {},
   "outputs": [
    {
     "name": "stdout",
     "output_type": "stream",
     "text": [
      "943 µs ± 71.1 µs per loop (mean ± std. dev. of 7 runs, 1000 loops each)\n"
     ]
    }
   ],
   "source": [
    "%timeit ft_concatenate(a,d)"
   ]
  },
  {
   "cell_type": "code",
   "execution_count": 6,
   "id": "6d7711ce",
   "metadata": {},
   "outputs": [
    {
     "name": "stdout",
     "output_type": "stream",
     "text": [
      " "
     ]
    }
   ],
   "source": [
    "%prun -s cumulative ft_concatenate(a,d)"
   ]
  },
  {
   "cell_type": "code",
   "execution_count": 7,
   "id": "751bd5ab",
   "metadata": {},
   "outputs": [],
   "source": [
    "%load_ext line_profiler\n",
    "%lprun -f ft_concatenate ft_concatenate(a,d)"
   ]
  },
  {
   "cell_type": "raw",
   "id": "d7d604c9",
   "metadata": {},
   "source": [
    "Improved the speed of the function"
   ]
  },
  {
   "cell_type": "code",
   "execution_count": 8,
   "id": "09620917",
   "metadata": {},
   "outputs": [],
   "source": [
    "def ft_concatenate_improved(a,d):\n",
    "    return d.join(a)\n",
    "    "
   ]
  },
  {
   "cell_type": "code",
   "execution_count": 9,
   "id": "046d473c",
   "metadata": {},
   "outputs": [
    {
     "name": "stdout",
     "output_type": "stream",
     "text": [
      "Temps d'éxécution:  0.00013303756713867188\n"
     ]
    }
   ],
   "source": [
    "initialTime =time.time()\n",
    "\n",
    "ft_concatenate_improved(a,d)\n",
    "\n",
    "print(\"Temps d'éxécution: \", time.time()-initialTime) #time <= 0.00024175643920898438\n"
   ]
  },
  {
   "cell_type": "code",
   "execution_count": 10,
   "id": "121f7fee",
   "metadata": {},
   "outputs": [
    {
     "name": "stdout",
     "output_type": "stream",
     "text": [
      " "
     ]
    }
   ],
   "source": [
    "%prun -s cumulative ft_concatenate_improved(a,d)"
   ]
  },
  {
   "cell_type": "code",
   "execution_count": 11,
   "id": "5c7de79c",
   "metadata": {},
   "outputs": [
    {
     "name": "stdout",
     "output_type": "stream",
     "text": [
      "The line_profiler extension is already loaded. To reload it, use:\n",
      "  %reload_ext line_profiler\n"
     ]
    }
   ],
   "source": [
    "%load_ext line_profiler\n",
    "%lprun -f ft_concatenate_improved ft_concatenate_improved(a,d)"
   ]
  },
  {
   "cell_type": "markdown",
   "id": "93e324b5",
   "metadata": {},
   "source": [
    "# Exercice 2"
   ]
  },
  {
   "cell_type": "markdown",
   "id": "3b49301e",
   "metadata": {},
   "source": [
    "bruteforce method"
   ]
  },
  {
   "cell_type": "code",
   "execution_count": 12,
   "id": "d8e425aa",
   "metadata": {},
   "outputs": [],
   "source": [
    "def bruteforce_method(l):\n",
    "    a = []\n",
    "    for i in l:\n",
    "        if i in a:\n",
    "            continue\n",
    "        a.append(i)\n",
    "    return len(a)"
   ]
  },
  {
   "cell_type": "markdown",
   "id": "4a96fd30",
   "metadata": {},
   "source": [
    "fast method"
   ]
  },
  {
   "cell_type": "code",
   "execution_count": 13,
   "id": "d52b7513",
   "metadata": {},
   "outputs": [],
   "source": [
    "def fast_method(l):\n",
    "    \n",
    "    return len(set(l))"
   ]
  },
  {
   "cell_type": "code",
   "execution_count": 14,
   "id": "b13dd5f2",
   "metadata": {},
   "outputs": [],
   "source": [
    "\n",
    "l=[]\n",
    "for i in range(2000000):\n",
    "    l.append(np.random.randint(1,5))"
   ]
  },
  {
   "cell_type": "code",
   "execution_count": 15,
   "id": "6bed8132",
   "metadata": {},
   "outputs": [
    {
     "name": "stdout",
     "output_type": "stream",
     "text": [
      "The time of bruteforce method is :  0.10087800025939941\n",
      "The time of fast method is :  0.022222518920898438\n"
     ]
    }
   ],
   "source": [
    "#time the two methods\n",
    "\n",
    "#bruteforce method\n",
    "init = time.time()\n",
    "\n",
    "bruteforce_method(l)\n",
    "\n",
    "print(\"The time of bruteforce method is : \",time.time() - init)\n",
    "\n",
    "\n",
    "#fast method\n",
    "initial = time.time()\n",
    "\n",
    "fast_method(l)\n",
    "\n",
    "print(\"The time of fast method is : \",time.time() - initial)\n"
   ]
  },
  {
   "cell_type": "markdown",
   "id": "21bbcb5b",
   "metadata": {},
   "source": [
    "# Cython exercises"
   ]
  },
  {
   "cell_type": "markdown",
   "id": "0a17ae3b",
   "metadata": {},
   "source": [
    "# Exercice 1"
   ]
  },
  {
   "cell_type": "markdown",
   "id": "612a96ac",
   "metadata": {},
   "source": [
    "1- loading the cython extension"
   ]
  },
  {
   "cell_type": "code",
   "execution_count": 16,
   "id": "1beb9e7b",
   "metadata": {},
   "outputs": [
    {
     "name": "stdout",
     "output_type": "stream",
     "text": [
      "Requirement already satisfied: cython in /home/soulemane/anaconda3/lib/python3.9/site-packages (0.29.32)\n",
      "Note: you may need to restart the kernel to use updated packages.\n"
     ]
    }
   ],
   "source": [
    "pip install cython\n"
   ]
  },
  {
   "cell_type": "code",
   "execution_count": 17,
   "id": "7e9799e5",
   "metadata": {},
   "outputs": [],
   "source": [
    "%load_ext Cython\n"
   ]
  },
  {
   "cell_type": "markdown",
   "id": "2f2272ea",
   "metadata": {},
   "source": [
    "2. Considering the following polynomial function:"
   ]
  },
  {
   "cell_type": "code",
   "execution_count": 18,
   "id": "25d95e85",
   "metadata": {},
   "outputs": [],
   "source": [
    "def poly(a,b):\n",
    "    return 10.5 * a + 3 * (b**2)\n"
   ]
  },
  {
   "cell_type": "markdown",
   "id": "73466f7d",
   "metadata": {},
   "source": [
    "Create an equivalent Cython function of poly with name poly_cy"
   ]
  },
  {
   "cell_type": "code",
   "execution_count": 19,
   "id": "504a7928",
   "metadata": {},
   "outputs": [],
   "source": [
    "%%cython\n",
    "def poly_cy(float a , float b):\n",
    "    cdef complex z\n",
    "    z = 10.5 * a + 3 * (b**2)\n",
    "    \n",
    "    return z"
   ]
  },
  {
   "cell_type": "markdown",
   "id": "d1762e24",
   "metadata": {},
   "source": [
    "3- time the performance of Python and Cython version of the function"
   ]
  },
  {
   "cell_type": "code",
   "execution_count": 20,
   "id": "b26d588f",
   "metadata": {},
   "outputs": [
    {
     "name": "stdout",
     "output_type": "stream",
     "text": [
      "Time of poly method is :  0.00011038780212402344\n",
      "Time of poly_cy method is :  7.414817810058594e-05\n"
     ]
    }
   ],
   "source": [
    "a, b = 10, 3.9\n",
    "start = time.time()\n",
    " \n",
    "result = poly(a, b)\n",
    "\n",
    "print(\"Time of poly method is : \", time.time() - start)\n",
    "\n",
    "star = time.time()\n",
    " \n",
    "result = poly_cy(a, b)\n",
    "\n",
    "print(\"Time of poly_cy method is : \", time.time() - star)"
   ]
  },
  {
   "cell_type": "markdown",
   "id": "e1b756a6",
   "metadata": {},
   "source": [
    "4- Now let's work on another example using loop."
   ]
  },
  {
   "cell_type": "code",
   "execution_count": 21,
   "id": "c68247bf",
   "metadata": {},
   "outputs": [],
   "source": [
    "def fib(n):\n",
    "    a, b = 0, 1\n",
    "    for i in range(n):\n",
    "        a, b = a + b, a\n",
    "\n",
    "    return a\n"
   ]
  },
  {
   "cell_type": "markdown",
   "id": "deaaaaab",
   "metadata": {},
   "source": [
    " rewrite the same function below fib that calculates the fibonacci sequence using cython"
   ]
  },
  {
   "cell_type": "code",
   "execution_count": 22,
   "id": "7717c25a",
   "metadata": {},
   "outputs": [],
   "source": [
    "%%cython\n",
    "def fib_cy(int n):\n",
    "    cdef int a = 0\n",
    "    cdef int b = 1\n",
    "    for i in range(n):\n",
    "        a, b = a + b, a\n",
    "\n",
    "    return a\n"
   ]
  },
  {
   "cell_type": "markdown",
   "id": "a442fed3",
   "metadata": {},
   "source": [
    "time the two function for fibonacci series, with n = 20"
   ]
  },
  {
   "cell_type": "code",
   "execution_count": 23,
   "id": "cebe24b6",
   "metadata": {},
   "outputs": [
    {
     "name": "stdout",
     "output_type": "stream",
     "text": [
      "Time of fib method is :  8.606910705566406e-05\n",
      "Time of fib_cy method is :  7.176399230957031e-05\n"
     ]
    }
   ],
   "source": [
    "n = 20\n",
    "start = time.time()\n",
    " \n",
    "result1 = fib(n)\n",
    "\n",
    "print(\"Time of fib method is : \", time.time() - start)\n",
    "\n",
    "star = time.time()\n",
    " \n",
    "result = fib_cy(n)\n",
    "\n",
    "print(\"Time of fib_cy method is : \", time.time() - star)"
   ]
  },
  {
   "cell_type": "markdown",
   "id": "5206c3a4",
   "metadata": {},
   "source": [
    "5- Rewrite the fib function using recursio"
   ]
  },
  {
   "cell_type": "code",
   "execution_count": 24,
   "id": "b5d2b91a",
   "metadata": {},
   "outputs": [],
   "source": [
    "def fib_rec(n):\n",
    "    if n == 0:\n",
    "        return 0 \n",
    "    \n",
    "    elif n == 1:\n",
    "        return 1\n",
    "    \n",
    "    else:\n",
    "        return fib_rec(n-1) + fib_rec(n-2)"
   ]
  },
  {
   "cell_type": "markdown",
   "id": "01069eda",
   "metadata": {},
   "source": [
    "Is it faster than the non-recursive version?"
   ]
  },
  {
   "cell_type": "code",
   "execution_count": 25,
   "id": "9b97b9c3",
   "metadata": {},
   "outputs": [
    {
     "name": "stdout",
     "output_type": "stream",
     "text": [
      "Time of fib method is :  7.534027099609375e-05\n",
      "Time of fib_rec method is :  0.0032262802124023438\n"
     ]
    }
   ],
   "source": [
    "n = 20\n",
    "start = time.time()\n",
    " \n",
    "result1 = fib(n)\n",
    "\n",
    "print(\"Time of fib method is : \", time.time() - start)\n",
    "\n",
    "star = time.time()\n",
    " \n",
    "result = fib_rec(n)\n",
    "\n",
    "print(\"Time of fib_rec method is : \", time.time() - star)"
   ]
  },
  {
   "cell_type": "markdown",
   "id": "802c5e52",
   "metadata": {},
   "source": [
    "# Exercice 2"
   ]
  },
  {
   "cell_type": "markdown",
   "id": "6fc2f2df",
   "metadata": {},
   "source": [
    "Algorithm implementation without Cython"
   ]
  },
  {
   "cell_type": "code",
   "execution_count": 26,
   "id": "16b90b67",
   "metadata": {},
   "outputs": [],
   "source": [
    "import random as ra\n",
    "def monte_carlo_pi(nsamples):\n",
    "    pi = 0.\n",
    "   # Implement your code here\n",
    "    circle_points = 0\n",
    "    square_points = 0\n",
    "    interval = 0\n",
    "    for i in range(nsamples):\n",
    "        x = ra.random()\n",
    "        y = ra.random()\n",
    "        d = x*x + y*y\n",
    "        if d <= 1:\n",
    "            circle_points += 1\n",
    "        square_points += 1\n",
    "    pi = 4 * (circle_points/square_points)\n",
    "    return pi"
   ]
  },
  {
   "cell_type": "code",
   "execution_count": 27,
   "id": "fe5df359",
   "metadata": {},
   "outputs": [],
   "source": [
    "no = 100000"
   ]
  },
  {
   "cell_type": "code",
   "execution_count": 28,
   "id": "50ee5c7d",
   "metadata": {},
   "outputs": [
    {
     "name": "stdout",
     "output_type": "stream",
     "text": [
      " "
     ]
    }
   ],
   "source": [
    "%prun -s cumulative monte_carlo_pi(no)"
   ]
  },
  {
   "cell_type": "code",
   "execution_count": 29,
   "id": "60746b2d",
   "metadata": {},
   "outputs": [
    {
     "name": "stdout",
     "output_type": "stream",
     "text": [
      "The line_profiler extension is already loaded. To reload it, use:\n",
      "  %reload_ext line_profiler\n"
     ]
    }
   ],
   "source": [
    "%load_ext line_profiler\n",
    "%lprun -f monte_carlo_pi monte_carlo_pi(no)"
   ]
  },
  {
   "cell_type": "markdown",
   "id": "8db099e1",
   "metadata": {},
   "source": [
    "Algorithm implementation with Cython"
   ]
  },
  {
   "cell_type": "code",
   "execution_count": 30,
   "id": "e8ac3178",
   "metadata": {},
   "outputs": [],
   "source": [
    "%%cython\n",
    "from libc.stdlib cimport rand, srand, RAND_MAX\n",
    "from libc.time cimport time\n",
    "\n",
    "cpdef double monte_carlo_pi_cy(int nsamples):\n",
    "    cdef complex pi = 0., d, x, y\n",
    "   # Implement your code here\n",
    "    cdef int circle_points = 0, i\n",
    "    cdef int square_points = 0\n",
    "    srand(time(NULL))\n",
    "    for i in range(nsamples):\n",
    "        x = <double>rand()/(RAND_MAX)\n",
    "        y = <double>rand()/(RAND_MAX)\n",
    "        d = x.real**2 + y.real**2\n",
    "        if d.real**2 + d.imag**2 <= 1:\n",
    "            circle_points += 1\n",
    "        square_points += 1\n",
    "    \n",
    "    pi = 4 * (circle_points/square_points)\n",
    "    return pi.real\n"
   ]
  },
  {
   "cell_type": "code",
   "execution_count": null,
   "id": "5e289cf3",
   "metadata": {},
   "outputs": [],
   "source": []
  },
  {
   "cell_type": "code",
   "execution_count": 31,
   "id": "aa012698",
   "metadata": {},
   "outputs": [
    {
     "name": "stdout",
     "output_type": "stream",
     "text": [
      " "
     ]
    }
   ],
   "source": [
    "%prun -s cumulative monte_carlo_pi_cy(no)"
   ]
  },
  {
   "cell_type": "markdown",
   "id": "59c4df81",
   "metadata": {},
   "source": [
    "comparing of speed up factor between python and cython"
   ]
  },
  {
   "cell_type": "code",
   "execution_count": 32,
   "id": "2dd4f177",
   "metadata": {},
   "outputs": [
    {
     "name": "stdout",
     "output_type": "stream",
     "text": [
      "Time of monte_carlo_pi method is :  0.06422615051269531\n",
      "Time of monte_carlo_pi_cy method is :  0.004990577697753906\n"
     ]
    }
   ],
   "source": [
    "start = time.time()\n",
    "\n",
    "monte_carlo_pi(no)\n",
    "\n",
    "print(\"Time of monte_carlo_pi method is : \", time.time() - start)\n",
    "\n",
    "star = time.time()\n",
    "\n",
    "monte_carlo_pi_cy(no)\n",
    "\n",
    "print(\"Time of monte_carlo_pi_cy method is : \", time.time() - star)\n",
    "\n"
   ]
  },
  {
   "cell_type": "markdown",
   "id": "0b5bfff2",
   "metadata": {},
   "source": [
    "# Numba exercises"
   ]
  },
  {
   "cell_type": "markdown",
   "id": "f59dbf9a",
   "metadata": {},
   "source": [
    "# Exercise 1"
   ]
  },
  {
   "cell_type": "markdown",
   "id": "ee4fdf2e",
   "metadata": {},
   "source": [
    "Use the same idea here, but make the code efficient using Numba."
   ]
  },
  {
   "cell_type": "code",
   "execution_count": 33,
   "id": "0faa06e3",
   "metadata": {},
   "outputs": [],
   "source": [
    "import random as ra\n",
    "from numba import njit\n",
    "\n",
    "@njit\n",
    "def monte_carlo_pi_numba(nsamples):\n",
    "    pi = 0.\n",
    "   # Implement your code here\n",
    "    circle_points = 0\n",
    "    square_points = 0\n",
    "    interval = 0\n",
    "    for i in range(nsamples):\n",
    "        x = ra.random()\n",
    "        y = ra.random()\n",
    "        d = x*x + y*y\n",
    "        if d <= 1:\n",
    "            circle_points += 1\n",
    "        square_points += 1\n",
    "    pi = 4 * (circle_points/square_points)\n",
    "    return pi"
   ]
  },
  {
   "cell_type": "markdown",
   "id": "6d79fa7a",
   "metadata": {},
   "source": [
    "Compare speed with and without Numba when the sample size is large."
   ]
  },
  {
   "cell_type": "code",
   "execution_count": 34,
   "id": "3ef22166",
   "metadata": {},
   "outputs": [
    {
     "name": "stdout",
     "output_type": "stream",
     "text": [
      "Time of monte_carlo_pi method is :  5.300297975540161\n",
      "Time of monte_carlo_pi_numba method is :  0.49288177490234375\n"
     ]
    }
   ],
   "source": [
    "no = 10000000\n",
    "\n",
    "start = time.time()\n",
    "\n",
    "monte_carlo_pi(no)\n",
    "\n",
    "print(\"Time of monte_carlo_pi method is : \", time.time() - start)\n",
    "\n",
    "star = time.time()\n",
    "\n",
    "monte_carlo_pi_numba(no)\n",
    "\n",
    "print(\"Time of monte_carlo_pi_numba method is : \", time.time() - star)"
   ]
  },
  {
   "cell_type": "markdown",
   "id": "407f7f96",
   "metadata": {},
   "source": [
    "# Exercise 2"
   ]
  },
  {
   "cell_type": "markdown",
   "id": "04cac2f8",
   "metadata": {},
   "source": [
    "# Implement a pure Python version and a Numba version"
   ]
  },
  {
   "cell_type": "markdown",
   "id": "d0711e81",
   "metadata": {},
   "source": [
    "Pure Python version"
   ]
  },
  {
   "cell_type": "code",
   "execution_count": 35,
   "id": "16552de3",
   "metadata": {},
   "outputs": [],
   "source": [
    "def Markov_sim(x):\n",
    "    if x == 1:\n",
    "        y = ra.random()\n",
    "        if y <= 0.2:\n",
    "            return 0\n",
    "        else:\n",
    "            return 1\n",
    "            \n",
    "    else:\n",
    "        y = ra.random()\n",
    "        if y <= 0.9:\n",
    "            return 0\n",
    "        else:\n",
    "            return 1\n",
    "\n",
    "\n",
    "n = 1000000\n",
    "x = 1\n"
   ]
  },
  {
   "cell_type": "code",
   "execution_count": 36,
   "id": "460eadde",
   "metadata": {},
   "outputs": [],
   "source": [
    "from numba import njit\n",
    "\n",
    "@njit\n",
    "def Markov_sim_numba(x):\n",
    "    if x == 1:\n",
    "        y = ra.random()\n",
    "        if y <= 0.2:\n",
    "            return 0\n",
    "        else:\n",
    "            return 1\n",
    "            \n",
    "    else:\n",
    "        y = ra.random()\n",
    "        if y <= 0.9:\n",
    "            return 0\n",
    "        else:\n",
    "            return 1\n"
   ]
  },
  {
   "cell_type": "code",
   "execution_count": 37,
   "id": "593f410f",
   "metadata": {},
   "outputs": [
    {
     "name": "stdout",
     "output_type": "stream",
     "text": [
      "Time of Markov_sim_numba method is :  0.39316415786743164\n",
      "Time of Markov_sim method is :  0.3769688606262207\n"
     ]
    }
   ],
   "source": [
    "start = time.time()\n",
    "for i in range(n):\n",
    "    a = Markov_sim_numba(x)\n",
    "\n",
    "print(\"Time of Markov_sim_numba method is : \", time.time() - start)\n",
    "\n",
    "star = time.time()\n",
    "for i in range(n):\n",
    "    b = Markov_sim(x)\n",
    "\n",
    "print(\"Time of Markov_sim method is : \", time.time() - star)"
   ]
  },
  {
   "cell_type": "code",
   "execution_count": 38,
   "id": "9a0b8f36",
   "metadata": {},
   "outputs": [
    {
     "name": "stdout",
     "output_type": "stream",
     "text": [
      "the fraction of time that the chain spends in the low state is :  0.666949\n"
     ]
    }
   ],
   "source": [
    "k = 0\n",
    "j = 0\n",
    "x = 1\n",
    "\n",
    "for i in range(n):\n",
    "    \n",
    "    if x == 1:\n",
    "        j += 1\n",
    "    else:\n",
    "        k += 1\n",
    "        \n",
    "    x = Markov_sim(x)\n",
    "    \n",
    "print(\"the fraction of time that the chain spends in the low state is : \", k/n)"
   ]
  },
  {
   "cell_type": "code",
   "execution_count": 39,
   "id": "79dc98b3",
   "metadata": {},
   "outputs": [
    {
     "name": "stdout",
     "output_type": "stream",
     "text": [
      "the fraction of time that the chain spends in the low state is :  0.665494\n"
     ]
    }
   ],
   "source": [
    "k = 0\n",
    "j = 0\n",
    "x = 1\n",
    "\n",
    "for i in range(n):\n",
    "    \n",
    "    if x == 1:\n",
    "        j += 1\n",
    "    else:\n",
    "        k += 1\n",
    "        \n",
    "    x = Markov_sim(x)\n",
    "    \n",
    "print(\"the fraction of time that the chain spends in the low state is : \", k/n)"
   ]
  },
  {
   "cell_type": "code",
   "execution_count": null,
   "id": "18bc055b",
   "metadata": {},
   "outputs": [],
   "source": []
  }
 ],
 "metadata": {
  "kernelspec": {
   "display_name": "Python 3 (ipykernel)",
   "language": "python",
   "name": "python3"
  },
  "language_info": {
   "codemirror_mode": {
    "name": "ipython",
    "version": 3
   },
   "file_extension": ".py",
   "mimetype": "text/x-python",
   "name": "python",
   "nbconvert_exporter": "python",
   "pygments_lexer": "ipython3",
   "version": "3.9.13"
  }
 },
 "nbformat": 4,
 "nbformat_minor": 5
}
